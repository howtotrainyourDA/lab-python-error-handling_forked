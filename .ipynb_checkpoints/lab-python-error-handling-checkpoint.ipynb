{
 "cells": [
  {
   "cell_type": "markdown",
   "id": "25d7736c-ba17-4aff-b6bb-66eba20fbf4e",
   "metadata": {},
   "source": [
    "# Lab | Error Handling"
   ]
  },
  {
   "cell_type": "markdown",
   "id": "bc99b386-7508-47a0-bcdb-d969deaf6c8b",
   "metadata": {},
   "source": [
    "## Exercise: Error Handling for Managing Customer Orders\n",
    "\n",
    "The implementation of your code for managing customer orders assumes that the user will always enter a valid input. \n",
    "\n",
    "For example, we could modify the `initialize_inventory` function to include error handling.\n",
    "   - If the user enters an invalid quantity (e.g., a negative value or a non-numeric value), display an error message and ask them to re-enter the quantity for that product.\n",
    "   - Use a try-except block to handle the error and continue prompting the user until a valid quantity is entered.\n",
    "\n",
    "```python\n",
    "# Step 1: Define the function for initializing the inventory with error handling\n",
    "def initialize_inventory(products):\n",
    "    inventory = {}\n",
    "    for product in products:\n",
    "        valid_quantity = False\n",
    "        while not valid_quantity:\n",
    "            try:\n",
    "                quantity = int(input(f\"Enter the quantity of {product}s available: \"))\n",
    "                if quantity < 0:\n",
    "                    raise ValueError(\"Invalid quantity! Please enter a non-negative value.\")\n",
    "                valid_quantity = True\n",
    "            except ValueError as error:\n",
    "                print(f\"Error: {error}\")\n",
    "        inventory[product] = quantity\n",
    "    return inventory\n",
    "\n",
    "# Or, in another way:\n",
    "\n",
    "def initialize_inventory(products):\n",
    "    inventory = {}\n",
    "    for product in products:\n",
    "        valid_input = False\n",
    "        while not valid_input:\n",
    "            try:\n",
    "                quantity = int(input(f\"Enter the quantity of {product}s available: \"))\n",
    "                if quantity >= 0:\n",
    "                    inventory[product] = quantity\n",
    "                    valid_input = True\n",
    "                else:\n",
    "                    print(\"Quantity cannot be negative. Please enter a valid quantity.\")\n",
    "            except ValueError:\n",
    "                print(\"Invalid input. Please enter a valid quantity.\")\n",
    "    return inventory\n",
    "```\n",
    "\n",
    "Let's enhance your code by implementing error handling to handle invalid inputs.\n",
    "\n",
    "Follow the steps below to complete the exercise:\n",
    "\n",
    "2. Modify the `calculate_total_price` function to include error handling.\n",
    "   - If the user enters an invalid price (e.g., a negative value or a non-numeric value), display an error message and ask them to re-enter the price for that product.\n",
    "   - Use a try-except block to handle the error and continue prompting the user until a valid price is entered.\n",
    "\n",
    "3. Modify the `get_customer_orders` function to include error handling.\n",
    "   - If the user enters an invalid number of orders (e.g., a negative value or a non-numeric value), display an error message and ask them to re-enter the number of orders.\n",
    "   - If the user enters an invalid product name (e.g., a product name that is not in the inventory), or that doesn't have stock available, display an error message and ask them to re-enter the product name. *Hint: you will need to pass inventory as a parameter*\n",
    "   - Use a try-except block to handle the error and continue prompting the user until a valid product name is entered.\n",
    "\n",
    "4. Test your code by running the program and deliberately entering invalid quantities and product names. Make sure the error handling mechanism works as expected.\n"
   ]
  },
  {
   "cell_type": "code",
   "execution_count": null,
   "id": "d40f667c-6490-4150-8318-c5b415101bf3",
   "metadata": {},
   "outputs": [],
   "source": []
  },
  {
   "cell_type": "code",
   "execution_count": null,
   "id": "adf664e4-0031-4d5d-879b-9bab773d39a2",
   "metadata": {},
   "outputs": [],
   "source": []
  },
  {
   "cell_type": "code",
   "execution_count": 37,
   "id": "eb13b8cc-ef05-4c99-a831-105f0f81014d",
   "metadata": {
    "scrolled": true
   },
   "outputs": [
    {
     "name": "stdin",
     "output_type": "stream",
     "text": [
      "Please add products mug shirt table\n",
      "Please enter amount for mug. 123\n",
      "Please enter amount for shirt. 123\n",
      "Please enter amount for table. 123\n",
      "Do you want to add more? yes\n",
      "Please add more products pc\n",
      "Please enter amount for pc. 232\n",
      "Do you want to add more? no\n"
     ]
    },
    {
     "data": {
      "text/plain": [
       "{'mug': 123, 'shirt': 123, 'table': 123, 'pc': 232}"
      ]
     },
     "execution_count": 37,
     "metadata": {},
     "output_type": "execute_result"
    }
   ],
   "source": [
    "final_products = []\n",
    "inventory = {}\n",
    "\n",
    "want_products = True\n",
    "\n",
    "def initialize_inventory(products):\n",
    "    for item in products.split():\n",
    "        user_input = True\n",
    "        while user_input:\n",
    "            try:\n",
    "                amount = int(input(f\"Please enter amount for {item}.\"))\n",
    "                if amount < 0:\n",
    "                    raise ValueError(\"Invalid number. Please enter positive integer.\")    \n",
    "                user_input = False\n",
    "                inventory[item] = amount\n",
    "                final_products.append(item)\n",
    "                \n",
    "            except ValueError as error:\n",
    "                print(f\"Invalid input: {error}\")\n",
    "\n",
    "            \n",
    "    choice = input(\"Do you want to add more?\")\n",
    "          \n",
    "    if choice == \"yes\":\n",
    "       more_products = input(\"Please add more products\").lower().strip()\n",
    "       initialize_inventory(more_products)\n",
    "    else:\n",
    "        return products\n",
    "        return inventory\n",
    "        \n",
    "products = input(\"Please add products\").lower().strip()           \n",
    "initialize_inventory(products)\n",
    "\n",
    "inventory\n",
    "\n"
   ]
  },
  {
   "cell_type": "code",
   "execution_count": 39,
   "id": "8fd1b678-321c-41f5-89ff-2ba5a23db939",
   "metadata": {},
   "outputs": [
    {
     "name": "stdin",
     "output_type": "stream",
     "text": [
      "What products do you want to order? We have: \n",
      " {'mug': 123, 'shirt': 123, 'table': 123, 'pc': 232}  mug shirt\n",
      "How many mugs do you want to order?  22\n",
      "How many shirts do you want to order?  22\n",
      "Do you want to order more items? (yes/no)  yes\n",
      "What products do you want to order? We have: \n",
      " {'mug': 123, 'shirt': 123, 'table': 123, 'pc': 232}  table\n",
      "How many tables do you want to order?  32\n",
      "Do you want to order more items? (yes/no)  no\n"
     ]
    },
    {
     "name": "stdout",
     "output_type": "stream",
     "text": [
      "Customer Order: {'mug': 22, 'shirt': 22, 'table': 32}\n"
     ]
    },
    {
     "name": "stdin",
     "output_type": "stream",
     "text": [
      "What is the price of the mug?  23\n",
      "What is the price of the shirt?  11\n",
      "What is the price of the table?  1111\n"
     ]
    },
    {
     "name": "stdout",
     "output_type": "stream",
     "text": [
      "Total Prize: 36300.0\n"
     ]
    }
   ],
   "source": [
    "\n",
    "def get_customer_order():\n",
    "    customer_order = {}\n",
    "    \n",
    "    while True:  # Continue until the user chooses to stop\n",
    "        customer_selection = input(f\"What products do you want to order? We have: \\n {inventory} \").split()\n",
    "        \n",
    "        for item in customer_selection:\n",
    "            if item in inventory:  \n",
    "                while True: \n",
    "                    try:\n",
    "                        quantity = int(input(f\"How many {item}s do you want to order? \"))\n",
    "                        if quantity < 0:\n",
    "                            raise ValueError(\"Quantity cannot be negative. Please enter a valid quantity.\")\n",
    "                        \n",
    "                        customer_order[item] = customer_order.get(item, 0) + quantity\n",
    "                        break \n",
    "                    except ValueError as error:\n",
    "                        print(f\"Error: {error}. Please try again.\")\n",
    "            else:\n",
    "                print(f\"Sorry, we don't have {item}.\")\n",
    "\n",
    "        choice = input(\"Do you want to order more items? (yes/no) \").strip().lower()\n",
    "        if choice != \"yes\":\n",
    "            break  \n",
    "\n",
    "    return customer_order\n",
    "\n",
    "customer_order = get_customer_order()\n",
    "print(\"Customer Order:\", customer_order)\n",
    "\n",
    "\n",
    "def get_prize(customer_order):\n",
    "    item_prize = {}\n",
    "    \n",
    "    for item in customer_order: \n",
    "        while True:  \n",
    "            try:\n",
    "                single_item_prize = float(input(f\"What is the price of the {item}? \"))\n",
    "                if single_item_prize < 0:\n",
    "                    raise ValueError(\"Price cannot be negative. Please enter a valid price.\")\n",
    "                item_prize[item] = single_item_prize\n",
    "                break \n",
    "            except ValueError as error:\n",
    "                print(f\"Error: {error}. Please try again.\")\n",
    "    \n",
    "    total_prize = 0.0 \n",
    "\n",
    "    for item in customer_order:\n",
    "        try:\n",
    "            if item not in item_prize:\n",
    "                raise KeyError(f\"Price for {item} not found.\")\n",
    "            total_prize += item_prize[item] * customer_order[item]\n",
    "        except KeyError as error:\n",
    "            print(f\"Error: {error}. Unable to calculate total price for {item}.\")\n",
    "\n",
    "    return total_prize\n",
    "\n",
    "total_prize = get_prize(customer_order)\n",
    "\n",
    "print(\"Total Prize:\", total_prize)\n"
   ]
  },
  {
   "cell_type": "code",
   "execution_count": 138,
   "id": "4977adef-f2d9-4a81-bb8c-2e7290279089",
   "metadata": {},
   "outputs": [
    {
     "data": {
      "text/plain": [
       "{'mug': -5}"
      ]
     },
     "execution_count": 138,
     "metadata": {},
     "output_type": "execute_result"
    }
   ],
   "source": [
    "\n",
    "def updated_inventory(customer_orders, inventory):\n",
    "    for key, value in customer_orders.items():\n",
    "        inventory[key] = inventory[key] - value    \n",
    "    return inventory\n",
    "    \n",
    "updated_inventory(customer_orders, inventory)"
   ]
  },
  {
   "cell_type": "code",
   "execution_count": 140,
   "id": "9efd0fd5-5ba3-4b0d-af45-728d24392895",
   "metadata": {
    "scrolled": true
   },
   "outputs": [
    {
     "data": {
      "text/plain": [
       "-100.0"
      ]
     },
     "execution_count": 140,
     "metadata": {},
     "output_type": "execute_result"
    }
   ],
   "source": [
    "#7. \n",
    "def calculate_order_statistics(customer_orders, products):\n",
    "    total_amount = 0\n",
    "    total_amount_ordered = 0\n",
    "    for key, value in customer_orders.items():\n",
    "        total_amount_ordered += value\n",
    "    for key, value in inventory.items():\n",
    "        total_amount += value\n",
    "    \n",
    "    order_status = (total_amount_ordered / total_amount) *100\n",
    "    return order_status\n",
    "    return total_amount_ordered\n",
    "    \n",
    "calculate_order_statistics(customer_orders, final_products)"
   ]
  },
  {
   "cell_type": "code",
   "execution_count": 142,
   "id": "a1ed4346-fe68-4c93-864d-e1e5c1561de7",
   "metadata": {},
   "outputs": [
    {
     "name": "stdout",
     "output_type": "stream",
     "text": [
      "You have ordered 0 products which makes  50.00 of the total\n"
     ]
    }
   ],
   "source": [
    "order_statistics = 0\n",
    "def print_order_statistics(order_statistics):\n",
    "    print(f\"You have ordered {total_amount_ordered} products which makes {order_status: .2f} of the total\")\n",
    "\n",
    "    \n",
    "\n",
    "\n",
    "print_order_statistics(order_statistics)\n",
    "    "
   ]
  },
  {
   "cell_type": "code",
   "execution_count": 144,
   "id": "f5da4f8d-4483-4f50-8081-96de28212721",
   "metadata": {},
   "outputs": [
    {
     "name": "stdout",
     "output_type": "stream",
     "text": [
      "This is the new inventory: {'mug': -5}\n"
     ]
    }
   ],
   "source": [
    "def print_updated_inventory(inventory):\n",
    "    print(f\"This is the new inventory: {inventory}\")\n",
    "\n",
    "print_updated_inventory(inventory)"
   ]
  },
  {
   "cell_type": "code",
   "execution_count": null,
   "id": "1862fd4b-8bcc-45e9-a5b1-76c0400f0e22",
   "metadata": {},
   "outputs": [],
   "source": []
  }
 ],
 "metadata": {
  "kernelspec": {
   "display_name": "Python 3 (ipykernel)",
   "language": "python",
   "name": "python3"
  },
  "language_info": {
   "codemirror_mode": {
    "name": "ipython",
    "version": 3
   },
   "file_extension": ".py",
   "mimetype": "text/x-python",
   "name": "python",
   "nbconvert_exporter": "python",
   "pygments_lexer": "ipython3",
   "version": "3.12.4"
  }
 },
 "nbformat": 4,
 "nbformat_minor": 5
}
